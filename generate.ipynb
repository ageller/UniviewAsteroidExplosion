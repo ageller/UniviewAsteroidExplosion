{
 "cells": [
  {
   "cell_type": "markdown",
   "metadata": {},
   "source": [
    "# Uniview module for IceCube event 170922A\n",
    "\n",
    "*Aaron Geller, 2018*\n",
    "\n",
    "### Imports and function definitions"
   ]
  },
  {
   "cell_type": "code",
   "execution_count": 1,
   "metadata": {},
   "outputs": [],
   "source": [
    "#This directory contains all the data needed for the module. It should be in the same directory as the notebook\n",
    "dataFolder = \"data\" \n",
    "import sys, os, shutil, errno, string, urllib\n",
    "\n",
    "\n",
    "sys.path.append(( os.path.abspath( os.path.join(os.path.realpath(\"__file__\"),  os.pardir, os.pardir) )))\n",
    "import uvmodlib.v1 as uvmod"
   ]
  },
  {
   "cell_type": "code",
   "execution_count": 2,
   "metadata": {},
   "outputs": [],
   "source": [
    "# # Run this if you want to build in 3.0 rather than 2.0\n",
    "# from config import Settings\n",
    "# Settings.uvcustommodulelocation='C:\\\\Users\\\\msubbarao\\\\SCISS\\\\Uniview Theater 3.0\\\\Custom Modules'"
   ]
  },
  {
   "cell_type": "markdown",
   "metadata": {},
   "source": [
    "### USES Conf Template "
   ]
  },
  {
   "cell_type": "code",
   "execution_count": 39,
   "metadata": {},
   "outputs": [],
   "source": [
    "Template = \"\"\"mesh\n",
    "{  \n",
    "    data ICgeom    ./modules/$folderName/IceCubeGeometry.raw\n",
    "    data ICgeomTop    ./modules/$folderName/IceCubeGeometryTop.raw\n",
    "    data ICevent    ./modules/$folderName/ic170922.tsort.raw # cat ic170922.raw | sort -n -k 4 > ic170922.tsort.raw\n",
    "\n",
    "\n",
    "    cullRadius $cr\n",
    "    glslVersion 330\n",
    "    \n",
    "    propertyCollection \n",
    "    {        \n",
    "        __objectName__\n",
    "        {           \n",
    "\n",
    "            vec1f geomRadius 3.5 | public | desc \"geometry point size \" | widget slider | range 0 20\n",
    "            vec1f eventRadius 15 | public | desc \"event scale point size \" | widget slider | range 0 20\n",
    "            vec1f eventTime 0 | public | desc \"event time \" | widget slider | range -1000 11800\n",
    "            vec1f tfac 10 | public | desc \"time width \" | widget slider | range 0. 20\n",
    "            vec1f tmax 5000 | public | desc \"max time color \" | widget slider | range 0. 11800 #for color bar\n",
    "            vec4f lineColor 0.0 0.25 0 0.5 | public\n",
    "            \n",
    "        }\n",
    "    }\n",
    "    ############# Detector geometry, points\n",
    "    pass\n",
    "    {\n",
    "        useDataObject ICgeom\n",
    "        shader\n",
    "        {\n",
    "            type defaultMeshShader\n",
    "            {\n",
    "                geometryShader   ./modules/$folderName/ICgeom.gs\n",
    "                vertexShader ./modules/$folderName/ICgeom.vs\n",
    "                fragmentShader   ./modules/$folderName/ICgeom.fs\n",
    "                \n",
    "                stateManagerVar __objectName__.geomRadius  geomRadius\n",
    "                \n",
    "                glState\n",
    "                {\n",
    "                    UV_CULL_FACE_ENABLE false\n",
    "                    UV_BLEND_ENABLE true\n",
    "                    UV_DEPTH_ENABLE false\n",
    "                    UV_WRITE_MASK_DEPTH true\n",
    "                    UV_BLEND_FUNC GL_SRC_ALPHA GL_ONE_MINUS_SRC_ALPHA\n",
    "                }\n",
    "            }\n",
    "\n",
    "        }    \n",
    "    }\n",
    "    ############# Detector geometry, lines\n",
    "    pass\n",
    "    {\n",
    "        useDataObject ICgeomTop\n",
    "        shader\n",
    "        {\n",
    "            type defaultMeshShader\n",
    "            {\n",
    "                geometryShader   ./modules/$folderName/ICgeomLine.gs\n",
    "                vertexShader ./modules/$folderName/ICgeom.vs\n",
    "                fragmentShader   ./modules/$folderName/ICgeomLine.fs\n",
    "                stateManagerVar __objectName__.lineColor  lineColor\n",
    "\n",
    "                glState\n",
    "                {\n",
    "                    UV_CULL_FACE_ENABLE false\n",
    "                    #UV_CULL_MODE GL_FRONT\n",
    "                    UV_BLEND_ENABLE true\n",
    "                    UV_BLEND_FUNC GL_SRC_ALPHA GL_ONE_MINUS_SRC_ALPHA\n",
    "                    UV_LINE_WIDTH 2\n",
    "                }\n",
    "            }\n",
    "\n",
    "        }\n",
    "    }\n",
    "    ############# Event geometry\n",
    "    pass\n",
    "    {\n",
    "        useDataObject ICevent\n",
    "        shader\n",
    "        {\n",
    "            type defaultMeshShader\n",
    "            {\n",
    "                geometryShader   ./modules/$folderName/ICevent.gs\n",
    "                vertexShader ./modules/$folderName/ICevent.vs\n",
    "                fragmentShader   ./modules/$folderName/ICevent.fs\n",
    "                texture cmap ./modules/$folderName/cmap.png\n",
    "                {             \n",
    "                    wrapModeS GL_CLAMP_TO_EDGE\n",
    "                    wrapModeR GL_CLAMP_TO_EDGE\n",
    "                    colorspace linear\n",
    "                }\n",
    "                \n",
    "                stateManagerVar __objectName__.eventRadius  eventRadius\n",
    "                stateManagerVar __objectName__.eventTime  eventTime\n",
    "                stateManagerVar __objectName__.tfac  tfac\n",
    "                stateManagerVar __objectName__.tmax  tmax\n",
    "                \n",
    "                glState\n",
    "                {\n",
    "                    UV_CULL_FACE_ENABLE false\n",
    "                    UV_BLEND_ENABLE true\n",
    "                    UV_DEPTH_ENABLE false\n",
    "                    UV_WRITE_MASK_DEPTH true\n",
    "                    UV_BLEND_FUNC GL_SRC_ALPHA GL_ONE_MINUS_SRC_ALPHA\n",
    "                }\n",
    "            }\n",
    "\n",
    "        }    \n",
    "    }\n",
    "}\"\"\""
   ]
  },
  {
   "cell_type": "markdown",
   "metadata": {},
   "source": [
    "### UVStream for IceCubeGeometry"
   ]
  },
  {
   "cell_type": "code",
   "execution_count": 40,
   "metadata": {},
   "outputs": [],
   "source": [
    "ICG_UVSTREAM='''<?xml version=\"1.0\" encoding=\"UTF-8\" standalone=\"no\"?>\n",
    "<DataStream version=\"0.1\">\n",
    "    <PrimitiveType>line_strip</PrimitiveType>\n",
    "    <DataBindings>\n",
    "        <Variable>\n",
    "            <Name>vertex</Name>         \n",
    "            <Type>vec3f</Type>\n",
    "        </Variable>                        \n",
    "    </DataBindings>\n",
    "\n",
    "    <CSVData>\n",
    "        <Path>IceCubeGeometry.csv</Path>\n",
    "        <Headers>\n",
    "            <Variable>              \n",
    "                <Cols>0,1,2</Cols>\n",
    "            </Variable>                                       \n",
    "         </Headers>\n",
    "    </CSVData>\n",
    "</DataStream>  \n",
    "'''"
   ]
  },
  {
   "cell_type": "code",
   "execution_count": 41,
   "metadata": {},
   "outputs": [],
   "source": [
    "# uvStreamFile=open('data/IceCubeGeometry.uvstream','w')\n",
    "# uvStreamFile.write(ICG_UVSTREAM)\n",
    "# uvStreamFile.close()"
   ]
  },
  {
   "cell_type": "markdown",
   "metadata": {},
   "source": [
    "### IceCube class"
   ]
  },
  {
   "cell_type": "code",
   "execution_count": 42,
   "metadata": {},
   "outputs": [],
   "source": [
    "class IceCube():\n",
    "    def __init__(self, object):\n",
    "        self.object = object\n",
    "        uvmod.Utility.ensurerelativepathexsists(\"ICgeom.gs\",dataFolder)\n",
    "        uvmod.Utility.ensurerelativepathexsists(\"ICgeom.vs\",dataFolder)\n",
    "        uvmod.Utility.ensurerelativepathexsists(\"ICgeom.fs\",dataFolder)\n",
    "        uvmod.Utility.ensurerelativepathexsists(\"ICgeomLine.gs\",dataFolder)\n",
    "        uvmod.Utility.ensurerelativepathexsists(\"ICgeomLine.fs\",dataFolder)\n",
    "        uvmod.Utility.ensurerelativepathexsists(\"ICevent.gs\",dataFolder)\n",
    "        uvmod.Utility.ensurerelativepathexsists(\"ICevent.vs\",dataFolder)\n",
    "        uvmod.Utility.ensurerelativepathexsists(\"ICevent.fs\",dataFolder)\n",
    "        self.cr = 1000\n",
    "        self.Scale = 1\n",
    "\n",
    "    def generatemod(self):\n",
    "        self.object.setgeometry(self.object.name+\"Mesh.usesconf\")\n",
    "        return self.object.generatemod()\n",
    "    def generatefiles(self, absOutDir, relOutDir):\n",
    "        fileName = self.object.name+\"Mesh.usesconf\"\n",
    "        s = string.Template(Template)\n",
    "        f = open(absOutDir+\"\\\\\"+fileName, 'w')\n",
    "        if f:\n",
    "            f.write(s.substitute(folderName = relOutDir,\n",
    "                                 cr = self.cr,\n",
    "                                 Scale = self.Scale\n",
    "                                 ))\n",
    "            f.close()\n",
    "        uvmod.Utility.copyfoldercontents(os.getcwd()+\"\\\\\"+dataFolder, absOutDir)"
   ]
  },
  {
   "cell_type": "markdown",
   "metadata": {},
   "source": [
    "### Object Instantiation"
   ]
  },
  {
   "cell_type": "code",
   "execution_count": 43,
   "metadata": {},
   "outputs": [],
   "source": [
    "model = IceCube(uvmod.OrbitalObject())\n",
    "generator = uvmod.Generator()\n",
    "scene = uvmod.Scene()\n",
    "scene.setname(\"IceCube\")\n",
    "scene.setparent(\"Earth\")\n",
    "scene.setentrydist(100000)\n",
    "scene.setunit(1)\n",
    "scene.setsurfacepositionerrotation(0,0.,-90)\n",
    "scene.setpositionfile(uvmod.PositionFileTypes.Surface(\"Earth\",  0.0, -89., -0.2))\n",
    "\n",
    "modinfo = uvmod.ModuleInformation()"
   ]
  },
  {
   "cell_type": "markdown",
   "metadata": {},
   "source": [
    "### Specify Settings and generate the module"
   ]
  },
  {
   "cell_type": "code",
   "execution_count": 44,
   "metadata": {},
   "outputs": [],
   "source": [
    "model.object.setcameraradius(10)\n",
    "model.object.setcoord(scene.name)\n",
    "model.object.setname(\"IceCube\")\n",
    "model.object.setguiname(\"/KavliLecture/Larson/IceCube\")\n",
    "model.object.settargetradius(20)\n",
    "model.object.showatstartup(False)\n",
    "model.cr = 10000\n",
    "modinfo.setname(\"IceCube\")\n",
    "modinfo.setauthor(\"Aaron Geller<sup>1</sup> and Shane Larson<sup>2</sup><br />(1)Adler Planetarium,br />(2)Northwestern University\")\n",
    "modinfo.cleardependencies()\n",
    "modinfo.setdesc(\"Uniview module for IceCube event 170922A\")\n",
    "#modinfo.setthumbnail(\"data/R0010133.JPG\")\n",
    "modinfo.setversion(\"1.0\")\n",
    "\n",
    "generator.generate(\"IceCube\",[scene],[model],modinfo)\n",
    "uvmod.Utility.senduvcommand(model.object.name+\".reload\")"
   ]
  },
  {
   "cell_type": "markdown",
   "metadata": {},
   "source": [
    "## Helper Functions for modifing code\n",
    "*Reload Module and Shaders in Uniview*"
   ]
  },
  {
   "cell_type": "code",
   "execution_count": 9,
   "metadata": {},
   "outputs": [
    {
     "name": "stdout",
     "output_type": "stream",
     "text": [
      "Unable to connect to Uniview\n"
     ]
    }
   ],
   "source": [
    "uvmod.Utility.senduvcommand(model.object.name+\".reload; system.reloadallshaders\")"
   ]
  },
  {
   "cell_type": "markdown",
   "metadata": {},
   "source": [
    "*Copy modified Shader files and reload*"
   ]
  },
  {
   "cell_type": "code",
   "execution_count": 30,
   "metadata": {},
   "outputs": [],
   "source": [
    "from config import Settings\n"
   ]
  },
  {
   "cell_type": "code",
   "execution_count": 37,
   "metadata": {},
   "outputs": [],
   "source": [
    "uvmod.Utility.copyfoldercontents(os.getcwd()+\"\\\\\"+dataFolder, Settings.uvcustommodulelocation+'\\\\'+model.object.name)\n",
    "uvmod.Utility.senduvcommand(model.object.name+\".reload\")"
   ]
  },
  {
   "cell_type": "markdown",
   "metadata": {},
   "source": [
    "### Create colormap texture"
   ]
  },
  {
   "cell_type": "code",
   "execution_count": 12,
   "metadata": {},
   "outputs": [],
   "source": [
    "import numpy as np\n",
    "import matplotlib.pyplot as plt\n",
    "from matplotlib import cm\n",
    "%matplotlib inline"
   ]
  },
  {
   "cell_type": "code",
   "execution_count": 13,
   "metadata": {},
   "outputs": [
    {
     "data": {
      "image/png": "[encoded data removed]",
      "text/plain": [
       "<matplotlib.figure.Figure at 0x145988e2c88>"
      ]
     },
     "metadata": {},
     "output_type": "display_data"
    }
   ],
   "source": [
    "gradient = np.linspace(0, 1, 256)\n",
    "gradient = np.vstack((gradient, gradient))\n",
    "\n",
    "def plot_cmap(colormap):\n",
    "    fig=plt.imshow(gradient, aspect=1, cmap=colormap)\n",
    "    plt.axis('off')\n",
    "    fig.axes.get_xaxis().set_visible(False)\n",
    "    fig.axes.get_yaxis().set_visible(False)\n",
    "    plt.savefig(\"data/cmap.png\", bbox_inches='tight',pad_inches=0)\n",
    "\n",
    "plot_cmap('viridis')"
   ]
  },
  {
   "cell_type": "code",
   "execution_count": null,
   "metadata": {},
   "outputs": [],
   "source": []
  }
 ],
 "metadata": {
  "anaconda-cloud": {},
  "kernelspec": {
   "display_name": "Python 3",
   "language": "python",
   "name": "python3"
  },
  "language_info": {
   "codemirror_mode": {
    "name": "ipython",
    "version": 3
   },
   "file_extension": ".py",
   "mimetype": "text/x-python",
   "name": "python",
   "nbconvert_exporter": "python",
   "pygments_lexer": "ipython3",
   "version": "3.6.4"
  }
 },
 "nbformat": 4,
 "nbformat_minor": 1
}
