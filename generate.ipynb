{
 "cells": [
  {
   "cell_type": "markdown",
   "metadata": {},
   "source": [
    "# Uniview module for of the asteroid explosion simulation \n",
    "\n",
    "### From Charles El Mir from [this article](https://www.sciencedirect.com/science/article/pii/S001910351830349X?via%3Dihub).\n",
    "\n",
    "\n",
    "*Aaron Geller, 2019*\n",
    "\n",
    "### Imports and function definitions"
   ]
  },
  {
   "cell_type": "code",
   "execution_count": 44,
   "metadata": {},
   "outputs": [],
   "source": [
    "#This directory contains all the data needed for the module. It should be in the same directory as the notebook\n",
    "dataFolder = \"data\" \n",
    "import sys, os, shutil, errno, string, urllib\n",
    "\n",
    "\n",
    "sys.path.append(( os.path.abspath( os.path.join(os.path.realpath(\"__file__\"),  os.pardir, os.pardir) )))\n",
    "import uvmodlib.v1 as uvmod"
   ]
  },
  {
   "cell_type": "markdown",
   "metadata": {},
   "source": [
    "### USES Conf Template "
   ]
  },
  {
   "cell_type": "code",
   "execution_count": 55,
   "metadata": {},
   "outputs": [],
   "source": [
    "Template = \"\"\"mesh\n",
    "{  \n",
    "    data asteroid    ./modules/$folderName/asteroid.raw \n",
    "    dataHints asteroid disablePostprocessing\n",
    "\n",
    "    data quad    ./modules/$folderName/quad.3ds\n",
    "\n",
    "    cullRadius $cr\n",
    "    glslVersion 330\n",
    "    \n",
    "    propertyCollection \n",
    "    {        \n",
    "        __objectName__\n",
    "        {           \n",
    "\n",
    "            vec1f pSize 300 | public | desc \"point size \" | widget slider | range 0 1000\n",
    "            vec1f eventTime 0 | public | desc \"time \" | widget slider | range 0 130000\n",
    "            vec1f dMin 0.125 | public | desc \"minimum damage\"\n",
    "            vec1f dMax 0.23 | public | desc \"maximum damage\"\n",
    "            vec1f alpha 0.8 | public | desc \"alpha\" | widget slider | range 0 1\n",
    "            \n",
    "            vec1f transitionLength 10 | public | desc \"transition length in seconds\" \n",
    "            bool jump true | public  | desc \"jump to time without transition\" \n",
    "            \n",
    "        }\n",
    "    }\n",
    "    ############# to hold the time information\n",
    "    renderTexture\n",
    "    {\n",
    "        name                      stateTexture\n",
    "        width                     1\n",
    "        height                    1\n",
    "        numTextures               1\n",
    "        isPingPong                true\n",
    "        isPersistent              true\n",
    "        isFramePersistent         true\n",
    "        internalTextureFormat     GL_RGB32F\n",
    "        magnify                   GL_NEAREST\n",
    "        minify                    GL_NEAREST\n",
    "    }\n",
    "    ############# set Transition State\n",
    "    pass \n",
    "    {\n",
    "        useDataObject quad\n",
    "        renderTarget\n",
    "        {\n",
    "            name stateTexture\n",
    "            enableColorClear false\n",
    "        }\n",
    "         shader\n",
    "        {\n",
    "            type defaultMeshShader\n",
    "            {\n",
    "                vertexShader   ./modules/$folderName/pass0.vs\n",
    "                fragmentShader ./modules/$folderName/state.fs\n",
    "                textureFBO stateTexture stateTexture\n",
    "                \n",
    "                stateManagerVar __objectName__.transitionLength transitionLength \n",
    "                stateManagerVar __objectName__.jump jump \n",
    "                stateManagerVar __objectName__.eventTime eventTime \n",
    "                \n",
    "                parameter2f timeRange 0 133000\n",
    "           }\n",
    "        }      \n",
    "    }\n",
    "    \n",
    "    ############# asteroid\n",
    "    pass\n",
    "    {\n",
    "        useDataObject asteroid\n",
    "        shader\n",
    "        {\n",
    "            type defaultMeshShader\n",
    "            {\n",
    "                geometryShader   ./modules/$folderName/asteroid.gs\n",
    "                vertexShader ./modules/$folderName/asteroid.vs\n",
    "                fragmentShader   ./modules/$folderName/asteroid.fs\n",
    "\n",
    "                textureFBO stateTexture stateTexture\n",
    "\n",
    "                texture cmap ./modules/$folderName/cmap.png\n",
    "                {             \n",
    "                    wrapModeS GL_CLAMP_TO_EDGE\n",
    "                    wrapModeR GL_CLAMP_TO_EDGE\n",
    "                    #colorspace linear\n",
    "                }\n",
    "                \n",
    "                stateManagerVar __objectName__.pSize  pSize\n",
    "                stateManagerVar __objectName__.dMin  dMin\n",
    "                stateManagerVar __objectName__.dMax  dMax\n",
    "                stateManagerVar __objectName__.alpha  alpha\n",
    "\n",
    "                glState\n",
    "                {\n",
    "                    UV_CULL_FACE_ENABLE false\n",
    "                    UV_BLEND_ENABLE true\n",
    "                    UV_DEPTH_ENABLE false\n",
    "                    UV_WRITE_MASK_DEPTH true\n",
    "                    UV_BLEND_FUNC GL_SRC_ALPHA GL_ONE_MINUS_SRC_ALPHA\n",
    "                }\n",
    "            }\n",
    "\n",
    "        }    \n",
    "    }\n",
    "}\"\"\""
   ]
  },
  {
   "cell_type": "markdown",
   "metadata": {},
   "source": [
    "### Asteroid class"
   ]
  },
  {
   "cell_type": "code",
   "execution_count": 56,
   "metadata": {},
   "outputs": [],
   "source": [
    "class asteroid():\n",
    "    def __init__(self, object):\n",
    "        self.object = object\n",
    "        uvmod.Utility.ensurerelativepathexsists(\"asteroid.gs\",dataFolder)\n",
    "        uvmod.Utility.ensurerelativepathexsists(\"asteroid.vs\",dataFolder)\n",
    "        uvmod.Utility.ensurerelativepathexsists(\"asteroid.fs\",dataFolder)\n",
    "        self.cr = 1000\n",
    "        self.Scale = 1\n",
    "\n",
    "    def generatemod(self):\n",
    "        self.object.setgeometry(self.object.name+\"Mesh.usesconf\")\n",
    "        return self.object.generatemod()\n",
    "    def generatefiles(self, absOutDir, relOutDir):\n",
    "        fileName = self.object.name+\"Mesh.usesconf\"\n",
    "        s = string.Template(Template)\n",
    "        f = open(absOutDir+\"\\\\\"+fileName, 'w')\n",
    "        if f:\n",
    "            f.write(s.substitute(folderName = relOutDir,\n",
    "                                 cr = self.cr,\n",
    "                                 Scale = self.Scale\n",
    "                                 ))\n",
    "            f.close()\n",
    "        uvmod.Utility.copyfoldercontents(os.getcwd()+\"\\\\\"+dataFolder, absOutDir)"
   ]
  },
  {
   "cell_type": "markdown",
   "metadata": {},
   "source": [
    "### Object Instantiation"
   ]
  },
  {
   "cell_type": "code",
   "execution_count": 57,
   "metadata": {},
   "outputs": [],
   "source": [
    "model = asteroid(uvmod.OrbitalObject())\n",
    "generator = uvmod.Generator()\n",
    "scene = uvmod.Scene()\n",
    "scene.setname(\"AsteroidExplosion\")\n",
    "scene.setparent(\"Earth\")\n",
    "scene.setentrydist(100000) #not sure what this does\n",
    "scene.setunit(1000)\n",
    "scene.setstaticposition(-1e7,0,0)\n",
    "\n",
    "modinfo = uvmod.ModuleInformation()"
   ]
  },
  {
   "cell_type": "markdown",
   "metadata": {},
   "source": [
    "### Specify Settings and generate the module"
   ]
  },
  {
   "cell_type": "code",
   "execution_count": 58,
   "metadata": {},
   "outputs": [
    {
     "name": "stdout",
     "output_type": "stream",
     "text": [
      "Unable to connect to Uniview\n"
     ]
    }
   ],
   "source": [
    "model.object.setcameraradius(1) #I think smaller values here mean less clipping\n",
    "model.object.setcoord(scene.name)\n",
    "model.object.setname(\"AsteroidExplosion\")\n",
    "model.object.setguiname(\"/Adler/Universe Update/Asteroid Explosion\")\n",
    "model.object.settargetradius(100) #this is the location where the camera will fly to\n",
    "model.object.showatstartup(False)\n",
    "model.cr = 100 #I think this is clipping on the back end?\n",
    "modinfo.setname(\"Asteroid Explosion\")\n",
    "modinfo.setauthor(\"Aaron Geller<sup>1</sup> and Charles El Mir<sup>2</sup>\\\n",
    "                <br />(1) Adler Planetarium,<br />(2)Johns Hopkins University\")\n",
    "modinfo.cleardependencies()\n",
    "modinfo.setdesc(\"Uniview module for the asteroid explosion simulation from Charles El Mir, et al. \\\n",
    "                in this article : https://www.sciencedirect.com/science/article/pii/S001910351830349X?via%3Dihub\")\n",
    "#modinfo.setthumbnail(\"data/R0010133.JPG\")\n",
    "modinfo.setversion(\"1.0\")\n",
    "\n",
    "generator.generate(\"AsteroidExplosion\",[scene],[model],modinfo)\n",
    "uvmod.Utility.senduvcommand(model.object.name+\".reload\")"
   ]
  },
  {
   "cell_type": "markdown",
   "metadata": {},
   "source": [
    "## Helper Functions for modifing code\n",
    "*Reload Module and Shaders in Uniview*"
   ]
  },
  {
   "cell_type": "code",
   "execution_count": 14,
   "metadata": {},
   "outputs": [],
   "source": [
    "uvmod.Utility.senduvcommand(model.object.name+\".reload; system.reloadallshaders\")"
   ]
  },
  {
   "cell_type": "markdown",
   "metadata": {},
   "source": [
    "*Copy modified Shader files and reload*"
   ]
  },
  {
   "cell_type": "code",
   "execution_count": 15,
   "metadata": {},
   "outputs": [],
   "source": [
    "from config import Settings"
   ]
  },
  {
   "cell_type": "code",
   "execution_count": 16,
   "metadata": {},
   "outputs": [],
   "source": [
    "uvmod.Utility.copyfoldercontents(os.getcwd()+\"\\\\\"+dataFolder, Settings.uvcustommodulelocation+'\\\\'+model.object.name)\n",
    "uvmod.Utility.senduvcommand(model.object.name+\".reload\")"
   ]
  },
  {
   "cell_type": "markdown",
   "metadata": {},
   "source": [
    "### Create colormap texture"
   ]
  },
  {
   "cell_type": "code",
   "execution_count": 18,
   "metadata": {},
   "outputs": [],
   "source": [
    "import numpy as np\n",
    "import matplotlib.pyplot as plt\n",
    "from matplotlib import cm\n",
    "%matplotlib inline"
   ]
  },
  {
   "cell_type": "code",
   "execution_count": 19,
   "metadata": {},
   "outputs": [
    {
     "data": {
      "image/png": "[encoded data removed]",
      "text/plain": [
       "<matplotlib.figure.Figure at 0x1545ce1dfd0>"
      ]
     },
     "metadata": {},
     "output_type": "display_data"
    }
   ],
   "source": [
    "gradient = np.linspace(0, 1, 256)\n",
    "gradient = np.vstack((gradient, gradient))\n",
    "\n",
    "def plot_cmap(colormap):\n",
    "    fig=plt.imshow(gradient, aspect=1, cmap=colormap)\n",
    "    plt.axis('off')\n",
    "    fig.axes.get_xaxis().set_visible(False)\n",
    "    fig.axes.get_yaxis().set_visible(False)\n",
    "    plt.savefig(\"data/cmap.png\", bbox_inches='tight',pad_inches=0)\n",
    "\n",
    "plot_cmap('YlOrBr_r')"
   ]
  },
  {
   "cell_type": "code",
   "execution_count": null,
   "metadata": {},
   "outputs": [],
   "source": []
  }
 ],
 "metadata": {
  "anaconda-cloud": {},
  "kernelspec": {
   "display_name": "Python 3",
   "language": "python",
   "name": "python3"
  },
  "language_info": {
   "codemirror_mode": {
    "name": "ipython",
    "version": 3
   },
   "file_extension": ".py",
   "mimetype": "text/x-python",
   "name": "python",
   "nbconvert_exporter": "python",
   "pygments_lexer": "ipython3",
   "version": "3.6.8"
  }
 },
 "nbformat": 4,
 "nbformat_minor": 1
}
